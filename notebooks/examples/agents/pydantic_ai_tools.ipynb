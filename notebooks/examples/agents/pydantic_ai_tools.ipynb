{
 "cells": [
  {
   "cell_type": "code",
   "execution_count": null,
   "id": "0f277f12-d30e-49c6-821c-2fa9f4e8ba10",
   "metadata": {},
   "outputs": [],
   "source": [
    "import random\n",
    "\n",
    "from pydantic_ai import Agent, RunContext\n",
    "from pydantic_ai.providers.openai import OpenAIProvider\n",
    "from pydantic_ai.models.openai import OpenAIModel\n",
    "\n",
    "# provider that talks to llama-cpp\n",
    "llama = OpenAIProvider(\n",
    "    base_url=\"http://llama_cpp:8000/v1\",\n",
    "    api_key=\"local\",\n",
    ")\n",
    "\n",
    "model = OpenAIModel(\n",
    "    \"Nous-Hermes-2-DPO_into_Nous_Hermes-2-Pro.Q8_0.gguf\", \n",
    "    provider=llama,\n",
    ")\n",
    "\n",
    "agent = Agent(\n",
    "    model,\n",
    "    deps_type=str,\n",
    "    instructions=(\n",
    "        \"You're a dice game, you should roll the dice and see if the number \"\n",
    "        \"you get back matches the user's guess. If so, tell them they're a winner. \"\n",
    "        \"Use the player's name in the response.\"\n",
    "    ),\n",
    ")"
   ]
  },
  {
   "cell_type": "code",
   "execution_count": null,
   "id": "29c8e230-aa91-450f-905b-24aa68686f34",
   "metadata": {},
   "outputs": [],
   "source": [
    "@agent.tool_plain  \n",
    "def roll_dice() -> str:\n",
    "    \"\"\"Roll a six-sided dice and return the result.\"\"\"\n",
    "    return str(random.randint(1, 6))\n",
    "\n",
    "\n",
    "@agent.tool\n",
    "def get_player_name(ctx: RunContext[str]) -> str:\n",
    "    \"\"\"Get the player's name.\"\"\"\n",
    "    return ctx.deps"
   ]
  },
  {
   "cell_type": "code",
   "execution_count": null,
   "id": "ffdaa9fe-3442-49ff-9ca8-50acd714946b",
   "metadata": {},
   "outputs": [],
   "source": [
    "dice_result = await agent.run('My guess is 4', deps='Anne')  \n",
    "\n",
    "print(dice_result.output)\n",
    "#> Congratulations Anne, you guessed correctly! You're a winner!"
   ]
  },
  {
   "cell_type": "code",
   "execution_count": null,
   "id": "d24c80b9-770b-4dad-8424-f61b4c5235bf",
   "metadata": {},
   "outputs": [],
   "source": [
    "for m in dice_result.all_messages():\n",
    "    print(m, \"\\n\")"
   ]
  }
 ],
 "metadata": {
  "kernelspec": {
   "display_name": "Python 3 (ipykernel)",
   "language": "python",
   "name": "python3"
  },
  "language_info": {
   "codemirror_mode": {
    "name": "ipython",
    "version": 3
   },
   "file_extension": ".py",
   "mimetype": "text/x-python",
   "name": "python",
   "nbconvert_exporter": "python",
   "pygments_lexer": "ipython3",
   "version": "3.11.8"
  }
 },
 "nbformat": 4,
 "nbformat_minor": 5
}
